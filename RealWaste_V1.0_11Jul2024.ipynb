{
 "cells": [
  {
   "cell_type": "code",
   "execution_count": 1,
   "id": "1391efcd",
   "metadata": {},
   "outputs": [],
   "source": [
    "# Load python modules\n",
    "import numpy as np\n",
    "import matplotlib.pyplot as plt\n",
    "import numpy as np\n",
    "import os\n",
    "import PIL\n",
    "import PIL.Image\n",
    "import tensorflow as tf\n",
    "import tensorflow_datasets as tfds\n",
    "from tqdm import tqdm\n",
    "from sklearn.utils import shuffle \n",
    "from sklearn.metrics import confusion_matrix\n",
    "import cv2"
   ]
  },
  {
   "cell_type": "code",
   "execution_count": 2,
   "id": "addaa926",
   "metadata": {},
   "outputs": [],
   "source": [
    "class_names = ['Glass', 'Metal', 'Paper', 'Textile']\n",
    "class_names_label = {class_name:i for i, class_name in enumerate(class_names)}\n",
    "nb_classes = len(class_names)\n",
    "IMAGE_SIZE = (64, 64)"
   ]
  },
  {
   "cell_type": "code",
   "execution_count": 3,
   "id": "a62eab9b",
   "metadata": {},
   "outputs": [],
   "source": [
    "def load_data():\n",
    "    \"\"\"\n",
    "        Load the data from local folder\n",
    "        \n",
    "    \"\"\"\n",
    "    \n",
    "    datasets = ['C:/Mani/1_MSC Data Science/7 Data Science Project/Dataset/dataset1/train_ds',\n",
    "               'C:/Mani/1_MSC Data Science/7 Data Science Project/Dataset/dataset1/test_ds']\n",
    "    output = []\n",
    "    \n",
    "    # Iterate through training and test sets\n",
    "    for dataset in datasets:\n",
    "        \n",
    "        images = []\n",
    "        labels = []\n",
    "        \n",
    "        print(\"Loading {}\".format(dataset))\n",
    "        \n",
    "        # Iterate through each folder corresponding to a category\n",
    "        for folder in os.listdir(dataset):\n",
    "            label = class_names_label[folder]\n",
    "            \n",
    "            # Iterate through each image in our folder\n",
    "            for file in tqdm(os.listdir(os.path.join(dataset, folder))):\n",
    "                \n",
    "                # Get the path name of the image\n",
    "                img_path = os.path.join(os.path.join(dataset, folder), file)\n",
    "                \n",
    "                # Open and resize the img\n",
    "                image = cv2.imread(img_path)\n",
    "                image = cv2.cvtColor(image, cv2.COLOR_BGR2RGB)\n",
    "                image = cv2.resize(image, IMAGE_SIZE) \n",
    "                \n",
    "                # Append the image and its corresponding label to the output\n",
    "                images.append(image)\n",
    "                labels.append(label)\n",
    "                \n",
    "        images = np.array(images, dtype = 'float32')\n",
    "        labels = np.array(labels, dtype = 'int32')   \n",
    "        \n",
    "        output.append((images, labels))\n",
    "\n",
    "    return output"
   ]
  },
  {
   "cell_type": "code",
   "execution_count": 4,
   "id": "845e0fc9",
   "metadata": {},
   "outputs": [
    {
     "name": "stdout",
     "output_type": "stream",
     "text": [
      "Loading C:/Mani/1_MSC Data Science/7 Data Science Project/Dataset/dataset1/train_ds\n"
     ]
    },
    {
     "name": "stderr",
     "output_type": "stream",
     "text": [
      "100%|█████████████████████████████████████████████████████████████████████████████████| 40/40 [00:00<00:00, 164.82it/s]\n",
      "100%|█████████████████████████████████████████████████████████████████████████████████| 40/40 [00:00<00:00, 199.58it/s]\n",
      "100%|█████████████████████████████████████████████████████████████████████████████████| 40/40 [00:00<00:00, 192.37it/s]\n",
      "100%|█████████████████████████████████████████████████████████████████████████████████| 40/40 [00:00<00:00, 193.80it/s]\n"
     ]
    },
    {
     "name": "stdout",
     "output_type": "stream",
     "text": [
      "Loading C:/Mani/1_MSC Data Science/7 Data Science Project/Dataset/dataset1/test_ds\n"
     ]
    },
    {
     "name": "stderr",
     "output_type": "stream",
     "text": [
      "100%|█████████████████████████████████████████████████████████████████████████████████| 15/15 [00:00<00:00, 173.86it/s]\n",
      "100%|█████████████████████████████████████████████████████████████████████████████████| 15/15 [00:00<00:00, 180.09it/s]\n",
      "100%|█████████████████████████████████████████████████████████████████████████████████| 15/15 [00:00<00:00, 181.52it/s]\n",
      "100%|█████████████████████████████████████████████████████████████████████████████████| 15/15 [00:00<00:00, 183.46it/s]\n"
     ]
    }
   ],
   "source": [
    "#Prepare dataset for training and testing\n",
    "(train_images, train_labels), (test_images, test_labels) = load_data()"
   ]
  },
  {
   "cell_type": "code",
   "execution_count": 5,
   "id": "df017b75",
   "metadata": {},
   "outputs": [
    {
     "data": {
      "text/plain": [
       "((160, 64, 64, 3), (60, 64, 64, 3))"
      ]
     },
     "execution_count": 5,
     "metadata": {},
     "output_type": "execute_result"
    }
   ],
   "source": [
    "#Check the training and testing image shape\n",
    "train_images.shape, test_images.shape"
   ]
  },
  {
   "cell_type": "code",
   "execution_count": 6,
   "id": "2b3edaff",
   "metadata": {},
   "outputs": [],
   "source": [
    "# Shuffle only the training dataset\n",
    "train_images, train_labels = shuffle(train_images, train_labels, random_state=123)"
   ]
  },
  {
   "cell_type": "code",
   "execution_count": 7,
   "id": "8dfe1ad5",
   "metadata": {},
   "outputs": [
    {
     "name": "stdout",
     "output_type": "stream",
     "text": [
      "No of training images: 160\n"
     ]
    }
   ],
   "source": [
    "#Check the number of training dataset\n",
    "print('No of training images:', train_images.shape[0])"
   ]
  },
  {
   "cell_type": "code",
   "execution_count": 8,
   "id": "8f13e8cb",
   "metadata": {},
   "outputs": [],
   "source": [
    "#Scale image data from 0 to 1 \n",
    "train_images = train_images / 255.0 \n",
    "test_images = test_images / 255.0"
   ]
  },
  {
   "cell_type": "code",
   "execution_count": 9,
   "id": "d19929f7",
   "metadata": {},
   "outputs": [],
   "source": [
    "def display_random_image(class_names, images, labels):\n",
    "    \"\"\"\n",
    "        Display a random image from the images array and its correspond label from the labels array.\n",
    "    \"\"\"\n",
    "    \n",
    "    index = np.random.randint(images.shape[0])\n",
    "    plt.figure()\n",
    "    plt.imshow(images[index])\n",
    "    plt.xticks([])\n",
    "    plt.yticks([])\n",
    "    plt.grid(False)\n",
    "    plt.title('Image Number {} : '.format(index) + class_names[labels[index]])\n",
    "    plt.show()"
   ]
  },
  {
   "cell_type": "code",
   "execution_count": 10,
   "id": "903b01ec",
   "metadata": {},
   "outputs": [
    {
     "data": {
      "image/png": "[encoded data removed]",
      "text/plain": [
       "<Figure size 640x480 with 1 Axes>"
      ]
     },
     "metadata": {},
     "output_type": "display_data"
    }
   ],
   "source": [
    "display_random_image(class_names, train_images, train_labels)"
   ]
  },
  {
   "cell_type": "code",
   "execution_count": null,
   "id": "bebb55bc",
   "metadata": {},
   "outputs": [],
   "source": []
  },
  {
   "cell_type": "code",
   "execution_count": null,
   "id": "26cbf122",
   "metadata": {},
   "outputs": [],
   "source": []
  },
  {
   "cell_type": "code",
   "execution_count": null,
   "id": "09c68fed",
   "metadata": {},
   "outputs": [],
   "source": []
  },
  {
   "cell_type": "code",
   "execution_count": null,
   "id": "ec47beed",
   "metadata": {},
   "outputs": [],
   "source": []
  }
 ],
 "metadata": {
  "kernelspec": {
   "display_name": "Python 3 (ipykernel)",
   "language": "python",
   "name": "python3"
  },
  "language_info": {
   "codemirror_mode": {
    "name": "ipython",
    "version": 3
   },
   "file_extension": ".py",
   "mimetype": "text/x-python",
   "name": "python",
   "nbconvert_exporter": "python",
   "pygments_lexer": "ipython3",
   "version": "3.11.5"
  }
 },
 "nbformat": 4,
 "nbformat_minor": 5
}
